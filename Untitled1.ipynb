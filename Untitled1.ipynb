{
 "cells": [
  {
   "cell_type": "code",
   "execution_count": null,
   "metadata": {},
   "outputs": [
    {
     "name": "stdout",
     "output_type": "stream",
     "text": [
      "Comienza el Ciclo...\n",
      "Comienza el Ciclo...\n",
      "Comienza el Ciclo...\n",
      "Comienza el Ciclo...\n",
      "Comienza el Ciclo...\n",
      "Comienza el Ciclo...\n",
      "Comienza el Ciclo...\n",
      "Comienza el Ciclo...\n",
      "Comienza el Ciclo...\n",
      "Comienza el Ciclo...\n",
      "Comienza el Ciclo...\n",
      "Comienza el Ciclo...\n",
      "Comienza el Ciclo...\n",
      "Comienza el Ciclo...\n",
      "Comienza el Ciclo...\n",
      "Comienza el Ciclo...\n",
      "Comienza el Ciclo...\n",
      "Comienza el Ciclo...\n",
      "Comienza el Ciclo...\n",
      "Comienza el Ciclo...\n",
      "Comienza el Ciclo...\n",
      "Comienza el Ciclo...\n",
      "Comienza el Ciclo...\n",
      "Comienza el Ciclo...\n",
      "Comienza el Ciclo...\n",
      "Comienza el Ciclo...\n",
      "Comienza el Ciclo...\n",
      "Comienza el Ciclo...\n",
      "Comienza el Ciclo...\n",
      "Comienza el Ciclo...\n",
      "Comienza el Ciclo...\n",
      "Comienza el Ciclo...\n",
      "Comienza el Ciclo...\n",
      "Comienza el Ciclo...\n",
      "Comienza el Ciclo...\n",
      "Comienza el Ciclo...\n",
      "Comienza el Ciclo...\n",
      "Comienza el Ciclo...\n",
      "Comienza el Ciclo...\n",
      "Comienza el Ciclo...\n",
      "Comienza el Ciclo...\n",
      "Comienza el Ciclo...\n"
     ]
    }
   ],
   "source": [
    "import Servidor as S\n",
    "S.Ciclo()"
   ]
  },
  {
   "cell_type": "code",
   "execution_count": null,
   "metadata": {},
   "outputs": [],
   "source": [
    "S.guardarRepositorio()"
   ]
  },
  {
   "cell_type": "code",
   "execution_count": null,
   "metadata": {},
   "outputs": [],
   "source": [
    "import git\n",
    "repoLocal = git.Repo(r'C:\\Users\\datos\\Documents\\GitHub\\Monitoreo')\n",
    "try:\n",
    "    for remote in repoLocal.remotes:\n",
    "        remote.fetch()\n",
    "\n",
    "    for remote in repoLocal.remotes:\n",
    "        remote.pull()\n",
    "    repoLocal.git.add(\".\")\n",
    "    repoLocal.git.commit(m='Update automatico via Actualizar ' + datetime.datetime.now().strftime(\"%m-%d-%Y %H-%M-%S\"))\n",
    "    origin = repoLocal.remote(name='origin')\n",
    "    origin.push()\n",
    "except:\n",
    "    print(\"Error de GITHUB\")"
   ]
  },
  {
   "cell_type": "code",
   "execution_count": null,
   "metadata": {},
   "outputs": [],
   "source": [
    "import git\n",
    "repoLocal = git.Repo(r'C:\\Users\\datos\\Documents\\GitHub\\Monitoreo')"
   ]
  },
  {
   "cell_type": "code",
   "execution_count": null,
   "metadata": {},
   "outputs": [],
   "source": [
    "for remote in repoLocal.remotes:\n",
    "    remote.fetch()\n",
    "\n",
    "for remote in repoLocal.remotes:\n",
    "    remote.pull()"
   ]
  },
  {
   "cell_type": "code",
   "execution_count": null,
   "metadata": {},
   "outputs": [],
   "source": [
    "repoLocal.git.add(\".\")"
   ]
  },
  {
   "cell_type": "code",
   "execution_count": null,
   "metadata": {},
   "outputs": [],
   "source": [
    "repoLocal.git.commit(m='Update automatico via Actualizar@')"
   ]
  },
  {
   "cell_type": "code",
   "execution_count": null,
   "metadata": {},
   "outputs": [],
   "source": [
    "origin = repoLocal.remote(name='origin')"
   ]
  },
  {
   "cell_type": "code",
   "execution_count": null,
   "metadata": {},
   "outputs": [],
   "source": [
    "origin.push()"
   ]
  },
  {
   "cell_type": "code",
   "execution_count": null,
   "metadata": {},
   "outputs": [],
   "source": [
    "for remote in repoLocal.remotes:\n",
    "    remote.fetch()\n",
    "\n",
    "for remote in repoLocal.remotes:\n",
    "    remote.pull()\n",
    "repoLocal.git.add(\".\")\n",
    "repoLocal.git.commit(m='Update automatico via Actualizar ' + datetime.datetime.now().strftime(\"%m-%d-%Y %H-%M-%S\"))\n",
    "try:\n",
    "    origin = repoLocal.remote(name='origin')\n",
    "    origin.push()\n",
    "except:\n",
    "    print(\"Error de GITHUB\")"
   ]
  },
  {
   "cell_type": "code",
   "execution_count": null,
   "metadata": {},
   "outputs": [],
   "source": [
    "repoLocal"
   ]
  },
  {
   "cell_type": "code",
   "execution_count": null,
   "metadata": {},
   "outputs": [],
   "source": []
  }
 ],
 "metadata": {
  "kernelspec": {
   "display_name": "Python 3",
   "language": "python",
   "name": "python3"
  },
  "language_info": {
   "codemirror_mode": {
    "name": "ipython",
    "version": 3
   },
   "file_extension": ".py",
   "mimetype": "text/x-python",
   "name": "python",
   "nbconvert_exporter": "python",
   "pygments_lexer": "ipython3",
   "version": "3.7.6"
  }
 },
 "nbformat": 4,
 "nbformat_minor": 4
}
