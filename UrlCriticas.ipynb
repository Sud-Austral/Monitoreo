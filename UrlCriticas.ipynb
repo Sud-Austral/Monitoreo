{
 "cells": [
  {
   "cell_type": "code",
   "execution_count": 1,
   "metadata": {},
   "outputs": [],
   "source": [
    "import requests"
   ]
  },
  {
   "cell_type": "code",
   "execution_count": 2,
   "metadata": {},
   "outputs": [],
   "source": [
    "r = requests.get('https://ide.dataintelligence-group.com/mapstore/#/')"
   ]
  },
  {
   "cell_type": "code",
   "execution_count": 3,
   "metadata": {},
   "outputs": [
    {
     "data": {
      "text/plain": [
       "200"
      ]
     },
     "execution_count": 3,
     "metadata": {},
     "output_type": "execute_result"
    }
   ],
   "source": [
    "r.status_code"
   ]
  },
  {
   "cell_type": "code",
   "execution_count": 4,
   "metadata": {},
   "outputs": [],
   "source": [
    "def Disponibilidad(url):\n",
    "    r = requests.get(url)\n",
    "    if(r.status_code == 200):\n",
    "        return True\n",
    "    return False"
   ]
  },
  {
   "cell_type": "code",
   "execution_count": 5,
   "metadata": {},
   "outputs": [
    {
     "data": {
      "text/plain": [
       "True"
      ]
     },
     "execution_count": 5,
     "metadata": {},
     "output_type": "execute_result"
    }
   ],
   "source": [
    "Disponibilidad('https://ide.dataintelligence-group.com/mapstore/#/')"
   ]
  },
  {
   "cell_type": "code",
   "execution_count": 6,
   "metadata": {},
   "outputs": [
    {
     "name": "stdout",
     "output_type": "stream",
     "text": [
      "True\n"
     ]
    }
   ],
   "source": [
    "urlCriticas = ['https://ide.dataintelligence-group.com/mapstore/#/',]\n",
    "for i in urlCriticas:\n",
    "    print(Disponibilidad(i))"
   ]
  },
  {
   "cell_type": "code",
   "execution_count": 9,
   "metadata": {},
   "outputs": [
    {
     "name": "stdout",
     "output_type": "stream",
     "text": [
      "True\n",
      "True\n",
      "True\n",
      "True\n",
      "True\n",
      "True\n",
      "True\n",
      "True\n",
      "True\n",
      "True\n",
      "True\n"
     ]
    }
   ],
   "source": [
    "import requests\n",
    "\n",
    "def Disponibilidad(url):\n",
    "    r = requests.get(url)\n",
    "    if(r.status_code == 200):\n",
    "        return True\n",
    "    return False\n",
    "\n",
    "urlCriticas = ['https://ide.dataintelligence-group.com/mapstore/#/','https://www.dataintelligence-group.com/','https://serviciodashboard.azurewebsites.net/','https://github.com/Sud-Austral/Datos_Guatemala','https://github.com/Sud-Austral/Datos_Honduras','https://github.com/Sud-Austral/Datos_Panama','https://github.com/Sud-Austral/EcoPartner','https://github.com/Sud-Austral/Base_PowerBIEmbeded','https://github.com/Sud-Austral/BlackBox','https://github.com/Sud-Austral/DATA-SALUD','https://github.com/Sud-Austral/DATA-AGRO']\n",
    "\n",
    "for i in urlCriticas:\n",
    "    print(Disponibilidad(i))"
   ]
  },
  {
   "cell_type": "code",
   "execution_count": 1,
   "metadata": {},
   "outputs": [
    {
     "name": "stdout",
     "output_type": "stream",
     "text": [
      "True\n"
     ]
    }
   ],
   "source": [
    "import requests\n",
    "\n",
    "def Disponibilidad(url):\n",
    "    r = requests.get(url)\n",
    "    if(r.status_code == 200):\n",
    "        return True\n",
    "    return False\n",
    "\n",
    "urlCriticas = ['https://dataintelligence.store']\n",
    "\n",
    "for i in urlCriticas:\n",
    "    print(Disponibilidad(i))"
   ]
  },
  {
   "cell_type": "code",
   "execution_count": null,
   "metadata": {},
   "outputs": [],
   "source": []
  }
 ],
 "metadata": {
  "kernelspec": {
   "display_name": "Python 3",
   "language": "python",
   "name": "python3"
  },
  "language_info": {
   "codemirror_mode": {
    "name": "ipython",
    "version": 3
   },
   "file_extension": ".py",
   "mimetype": "text/x-python",
   "name": "python",
   "nbconvert_exporter": "python",
   "pygments_lexer": "ipython3",
   "version": "3.8.5"
  }
 },
 "nbformat": 4,
 "nbformat_minor": 4
}
